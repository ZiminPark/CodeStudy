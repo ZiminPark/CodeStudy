{
  "nbformat": 4,
  "nbformat_minor": 0,
  "metadata": {
    "colab": {
      "name": "khaiii 사용법",
      "provenance": [],
      "collapsed_sections": [],
      "toc_visible": true,
      "mount_file_id": "1GWV1eVkpThKGTHqAl9pUmjGSImUsHJXm",
      "authorship_tag": "ABX9TyNR7EuAlcsdUbpQ5YBEvsRg",
      "include_colab_link": true
    },
    "kernelspec": {
      "name": "python3",
      "display_name": "Python 3"
    },
    "accelerator": "GPU"
  },
  "cells": [
    {
      "cell_type": "markdown",
      "metadata": {
        "id": "view-in-github",
        "colab_type": "text"
      },
      "source": [
        "<a href=\"https://colab.research.google.com/github/ZiminPark/TIL/blob/master/package/khaii_how_to_use.ipynb\" target=\"_parent\"><img src=\"https://colab.research.google.com/assets/colab-badge.svg\" alt=\"Open In Colab\"/></a>"
      ]
    },
    {
      "cell_type": "code",
      "metadata": {
        "id": "_pJwS2KjN1Be",
        "colab_type": "code",
        "cellView": "both",
        "colab": {}
      },
      "source": [
        "!git clone https://github.com/kakao/khaiii.git\n",
        "!pip install cmake\n",
        "!mkdir build\n",
        "!cd build && cmake /content/khaiii\n",
        "!cd /content/build/ && make all\n",
        "!cd /content/build/ && make resource\n",
        "!cd /content/build && make install\n",
        "!cd /content/build && make package_python\n",
        "!pip install /content/build/package_python"
      ],
      "execution_count": 0,
      "outputs": []
    },
    {
      "cell_type": "code",
      "metadata": {
        "id": "wTcrrAPEKllY",
        "colab_type": "code",
        "outputId": "062e3473-333c-4b70-9748-014acf0d0095",
        "colab": {
          "base_uri": "https://localhost:8080/",
          "height": 52
        }
      },
      "source": [
        "from khaiii import KhaiiiApi\n",
        "tokenizer = KhaiiiApi()\n",
        "for word in tokenizer.analyze('안녕, 세상.'):\n",
        "    print(word)"
      ],
      "execution_count": 0,
      "outputs": [
        {
          "output_type": "stream",
          "text": [
            "안녕,\t안녕/IC + ,/SP\n",
            "세상.\t세상/NNG + ./SF\n"
          ],
          "name": "stdout"
        }
      ]
    },
    {
      "cell_type": "code",
      "metadata": {
        "id": "xRmmiwLBK5A3",
        "colab_type": "code",
        "outputId": "02d0a9b5-29b0-484b-8114-1867f536685c",
        "colab": {
          "base_uri": "https://localhost:8080/",
          "height": 34
        }
      },
      "source": [
        "result = tokenizer.analyze('기쁨')\n",
        "result  # list of instance"
      ],
      "execution_count": 0,
      "outputs": [
        {
          "output_type": "execute_result",
          "data": {
            "text/plain": [
              "[<khaiii.khaiii.KhaiiiWord at 0x7f58bd7dad30>]"
            ]
          },
          "metadata": {
            "tags": []
          },
          "execution_count": 23
        }
      ]
    },
    {
      "cell_type": "code",
      "metadata": {
        "id": "YcYRRwY0OKZC",
        "colab_type": "code",
        "outputId": "7638415d-f710-4ee6-992c-75cb18e802fc",
        "colab": {
          "base_uri": "https://localhost:8080/",
          "height": 34
        }
      },
      "source": [
        "happy = result[0].lex\n",
        "happy"
      ],
      "execution_count": 0,
      "outputs": [
        {
          "output_type": "execute_result",
          "data": {
            "text/plain": [
              "'기쁨'"
            ]
          },
          "metadata": {
            "tags": []
          },
          "execution_count": 25
        }
      ]
    },
    {
      "cell_type": "code",
      "metadata": {
        "id": "bIiSgNAmK5Hc",
        "colab_type": "code",
        "outputId": "c16bebc0-528b-47ce-bc24-ad5a20df70e5",
        "colab": {
          "base_uri": "https://localhost:8080/",
          "height": 34
        }
      },
      "source": [
        "morphs = result[0].morphs  # list of morphs instance\n",
        "morphs"
      ],
      "execution_count": 0,
      "outputs": [
        {
          "output_type": "execute_result",
          "data": {
            "text/plain": [
              "[<khaiii.khaiii.KhaiiiMorph at 0x7f58bd737358>]"
            ]
          },
          "metadata": {
            "tags": []
          },
          "execution_count": 29
        }
      ]
    },
    {
      "cell_type": "code",
      "metadata": {
        "id": "SUWatZihK5M6",
        "colab_type": "code",
        "outputId": "7f391f3d-2ed1-4272-e7e1-9e128366113b",
        "colab": {
          "base_uri": "https://localhost:8080/",
          "height": 34
        }
      },
      "source": [
        "morph = morphs[0]\n",
        "morph.tag"
      ],
      "execution_count": 0,
      "outputs": [
        {
          "output_type": "execute_result",
          "data": {
            "text/plain": [
              "'NNG'"
            ]
          },
          "metadata": {
            "tags": []
          },
          "execution_count": 32
        }
      ]
    }
  ]
}