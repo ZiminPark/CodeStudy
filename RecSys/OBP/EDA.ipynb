{
 "cells": [
  {
   "cell_type": "markdown",
   "metadata": {
    "toc": true
   },
   "source": [
    "<h1>Table of Contents<span class=\"tocSkip\"></span></h1>\n",
    "<div class=\"toc\"><ul class=\"toc-item\"><li><span><a href=\"#(1)-Data-loading\" data-toc-modified-id=\"(1)-Data-loading-1\">(1) Data loading</a></span></li><li><span><a href=\"#(2)-Off-Policy-Learning\" data-toc-modified-id=\"(2)-Off-Policy-Learning-2\">(2) Off-Policy Learning</a></span></li><li><span><a href=\"#(3)-Off-Policy-Evaluation\" data-toc-modified-id=\"(3)-Off-Policy-Evaluation-3\">(3) Off-Policy Evaluation</a></span></li></ul></div>"
   ]
  },
  {
   "cell_type": "markdown",
   "metadata": {},
   "source": [
    "- https://github.com/st-tech/zr-obp "
   ]
  },
  {
   "cell_type": "code",
   "execution_count": 7,
   "metadata": {
    "ExecuteTime": {
     "end_time": "2021-01-20T12:06:02.870310Z",
     "start_time": "2021-01-20T12:06:02.867612Z"
    }
   },
   "outputs": [],
   "source": [
    "from obp.dataset import OpenBanditDataset\n",
    "from obp.policy import BernoulliTS\n",
    "from obp.ope import OffPolicyEvaluation, InverseProbabilityWeighting as IPW\n",
    "\n",
    "from pathlib import Path\n",
    "import pandas as pd\n",
    "import os"
   ]
  },
  {
   "cell_type": "code",
   "execution_count": 48,
   "metadata": {
    "ExecuteTime": {
     "end_time": "2021-01-20T13:08:51.178991Z",
     "start_time": "2021-01-20T13:08:51.176499Z"
    }
   },
   "outputs": [],
   "source": [
    "from datetime import timedelta"
   ]
  },
  {
   "cell_type": "markdown",
   "metadata": {
    "ExecuteTime": {
     "end_time": "2021-01-19T17:22:29.102780Z",
     "start_time": "2021-01-19T17:22:19.972617Z"
    },
    "scrolled": true
   },
   "source": [
    "# (1) Data loading"
   ]
  },
  {
   "cell_type": "code",
   "execution_count": 87,
   "metadata": {
    "ExecuteTime": {
     "end_time": "2021-01-20T13:20:13.145899Z",
     "start_time": "2021-01-20T13:20:13.143067Z"
    }
   },
   "outputs": [],
   "source": [
    "base_path = Path('.')\n",
    "bts_women = base_path / 'bts/women'\n",
    "item_context_path = bts_women / 'item_context.csv'\n",
    "women_path = bts_women / 'women.csv'"
   ]
  },
  {
   "cell_type": "code",
   "execution_count": 88,
   "metadata": {
    "ExecuteTime": {
     "end_time": "2021-01-20T13:20:13.800829Z",
     "start_time": "2021-01-20T13:20:13.457890Z"
    }
   },
   "outputs": [],
   "source": [
    "item_context = pd.read_csv(item_context_path, index_col=0)\n",
    "women = pd.read_csv(women_path, index_col=0, nrows=70_000)"
   ]
  },
  {
   "cell_type": "code",
   "execution_count": 89,
   "metadata": {
    "ExecuteTime": {
     "end_time": "2021-01-20T13:20:13.805675Z",
     "start_time": "2021-01-20T13:20:13.802353Z"
    }
   },
   "outputs": [
    {
     "data": {
      "text/plain": [
       "((46, 5), (70000, 55))"
      ]
     },
     "execution_count": 89,
     "metadata": {},
     "output_type": "execute_result"
    }
   ],
   "source": [
    "item_context.shape, women.shape"
   ]
  },
  {
   "cell_type": "code",
   "execution_count": 90,
   "metadata": {
    "ExecuteTime": {
     "end_time": "2021-01-20T13:20:14.335016Z",
     "start_time": "2021-01-20T13:20:14.312365Z"
    }
   },
   "outputs": [
    {
     "data": {
      "text/html": [
       "<div>\n",
       "<style scoped>\n",
       "    .dataframe tbody tr th:only-of-type {\n",
       "        vertical-align: middle;\n",
       "    }\n",
       "\n",
       "    .dataframe tbody tr th {\n",
       "        vertical-align: top;\n",
       "    }\n",
       "\n",
       "    .dataframe thead th {\n",
       "        text-align: right;\n",
       "    }\n",
       "</style>\n",
       "<table border=\"1\" class=\"dataframe\">\n",
       "  <thead>\n",
       "    <tr style=\"text-align: right;\">\n",
       "      <th></th>\n",
       "      <th>timestamp</th>\n",
       "      <th>item_id</th>\n",
       "      <th>position</th>\n",
       "      <th>click</th>\n",
       "      <th>propensity_score</th>\n",
       "      <th>user_feature_0</th>\n",
       "      <th>user_feature_1</th>\n",
       "      <th>user_feature_2</th>\n",
       "      <th>user_feature_3</th>\n",
       "      <th>user-item_affinity_0</th>\n",
       "      <th>...</th>\n",
       "      <th>user-item_affinity_36</th>\n",
       "      <th>user-item_affinity_37</th>\n",
       "      <th>user-item_affinity_38</th>\n",
       "      <th>user-item_affinity_39</th>\n",
       "      <th>user-item_affinity_40</th>\n",
       "      <th>user-item_affinity_41</th>\n",
       "      <th>user-item_affinity_42</th>\n",
       "      <th>user-item_affinity_43</th>\n",
       "      <th>user-item_affinity_44</th>\n",
       "      <th>user-item_affinity_45</th>\n",
       "    </tr>\n",
       "  </thead>\n",
       "  <tbody>\n",
       "    <tr>\n",
       "      <th>0</th>\n",
       "      <td>2019-11-24 00:00:00.110777+00:00</td>\n",
       "      <td>12</td>\n",
       "      <td>1</td>\n",
       "      <td>0</td>\n",
       "      <td>0.029985</td>\n",
       "      <td>81ce123cbb5bd8ce818f60fb3586bba5</td>\n",
       "      <td>03a5648a76832f83c859d46bc06cb64a</td>\n",
       "      <td>7bc94a2da491829b777c49c4b5e480f2</td>\n",
       "      <td>c39b0c7dd5d4eb9a18e7db6ba2f258f8</td>\n",
       "      <td>0.0</td>\n",
       "      <td>...</td>\n",
       "      <td>0.0</td>\n",
       "      <td>0.0</td>\n",
       "      <td>0.0</td>\n",
       "      <td>0.0</td>\n",
       "      <td>0.0</td>\n",
       "      <td>0.0</td>\n",
       "      <td>0.0</td>\n",
       "      <td>0.0</td>\n",
       "      <td>0.0</td>\n",
       "      <td>0.0</td>\n",
       "    </tr>\n",
       "    <tr>\n",
       "      <th>1</th>\n",
       "      <td>2019-11-24 00:00:00.111897+00:00</td>\n",
       "      <td>38</td>\n",
       "      <td>3</td>\n",
       "      <td>0</td>\n",
       "      <td>0.084535</td>\n",
       "      <td>81ce123cbb5bd8ce818f60fb3586bba5</td>\n",
       "      <td>03a5648a76832f83c859d46bc06cb64a</td>\n",
       "      <td>7bc94a2da491829b777c49c4b5e480f2</td>\n",
       "      <td>c39b0c7dd5d4eb9a18e7db6ba2f258f8</td>\n",
       "      <td>0.0</td>\n",
       "      <td>...</td>\n",
       "      <td>0.0</td>\n",
       "      <td>0.0</td>\n",
       "      <td>0.0</td>\n",
       "      <td>0.0</td>\n",
       "      <td>0.0</td>\n",
       "      <td>0.0</td>\n",
       "      <td>0.0</td>\n",
       "      <td>0.0</td>\n",
       "      <td>0.0</td>\n",
       "      <td>0.0</td>\n",
       "    </tr>\n",
       "    <tr>\n",
       "      <th>2</th>\n",
       "      <td>2019-11-24 00:00:00.112501+00:00</td>\n",
       "      <td>36</td>\n",
       "      <td>2</td>\n",
       "      <td>0</td>\n",
       "      <td>0.241770</td>\n",
       "      <td>81ce123cbb5bd8ce818f60fb3586bba5</td>\n",
       "      <td>03a5648a76832f83c859d46bc06cb64a</td>\n",
       "      <td>7bc94a2da491829b777c49c4b5e480f2</td>\n",
       "      <td>c39b0c7dd5d4eb9a18e7db6ba2f258f8</td>\n",
       "      <td>0.0</td>\n",
       "      <td>...</td>\n",
       "      <td>0.0</td>\n",
       "      <td>0.0</td>\n",
       "      <td>0.0</td>\n",
       "      <td>0.0</td>\n",
       "      <td>0.0</td>\n",
       "      <td>0.0</td>\n",
       "      <td>0.0</td>\n",
       "      <td>0.0</td>\n",
       "      <td>0.0</td>\n",
       "      <td>0.0</td>\n",
       "    </tr>\n",
       "    <tr>\n",
       "      <th>3</th>\n",
       "      <td>2019-11-24 00:00:00.398533+00:00</td>\n",
       "      <td>36</td>\n",
       "      <td>2</td>\n",
       "      <td>0</td>\n",
       "      <td>0.241770</td>\n",
       "      <td>81ce123cbb5bd8ce818f60fb3586bba5</td>\n",
       "      <td>03a5648a76832f83c859d46bc06cb64a</td>\n",
       "      <td>9f4e8271d3d3014af5f35124c2de5082</td>\n",
       "      <td>c39b0c7dd5d4eb9a18e7db6ba2f258f8</td>\n",
       "      <td>0.0</td>\n",
       "      <td>...</td>\n",
       "      <td>0.0</td>\n",
       "      <td>0.0</td>\n",
       "      <td>0.0</td>\n",
       "      <td>0.0</td>\n",
       "      <td>0.0</td>\n",
       "      <td>0.0</td>\n",
       "      <td>0.0</td>\n",
       "      <td>0.0</td>\n",
       "      <td>0.0</td>\n",
       "      <td>0.0</td>\n",
       "    </tr>\n",
       "    <tr>\n",
       "      <th>4</th>\n",
       "      <td>2019-11-24 00:00:00.398533+00:00</td>\n",
       "      <td>44</td>\n",
       "      <td>1</td>\n",
       "      <td>0</td>\n",
       "      <td>0.015315</td>\n",
       "      <td>81ce123cbb5bd8ce818f60fb3586bba5</td>\n",
       "      <td>03a5648a76832f83c859d46bc06cb64a</td>\n",
       "      <td>9f4e8271d3d3014af5f35124c2de5082</td>\n",
       "      <td>c39b0c7dd5d4eb9a18e7db6ba2f258f8</td>\n",
       "      <td>0.0</td>\n",
       "      <td>...</td>\n",
       "      <td>0.0</td>\n",
       "      <td>0.0</td>\n",
       "      <td>0.0</td>\n",
       "      <td>0.0</td>\n",
       "      <td>0.0</td>\n",
       "      <td>0.0</td>\n",
       "      <td>0.0</td>\n",
       "      <td>0.0</td>\n",
       "      <td>0.0</td>\n",
       "      <td>0.0</td>\n",
       "    </tr>\n",
       "  </tbody>\n",
       "</table>\n",
       "<p>5 rows × 55 columns</p>\n",
       "</div>"
      ],
      "text/plain": [
       "                          timestamp  item_id  position  click  \\\n",
       "0  2019-11-24 00:00:00.110777+00:00       12         1      0   \n",
       "1  2019-11-24 00:00:00.111897+00:00       38         3      0   \n",
       "2  2019-11-24 00:00:00.112501+00:00       36         2      0   \n",
       "3  2019-11-24 00:00:00.398533+00:00       36         2      0   \n",
       "4  2019-11-24 00:00:00.398533+00:00       44         1      0   \n",
       "\n",
       "   propensity_score                    user_feature_0  \\\n",
       "0          0.029985  81ce123cbb5bd8ce818f60fb3586bba5   \n",
       "1          0.084535  81ce123cbb5bd8ce818f60fb3586bba5   \n",
       "2          0.241770  81ce123cbb5bd8ce818f60fb3586bba5   \n",
       "3          0.241770  81ce123cbb5bd8ce818f60fb3586bba5   \n",
       "4          0.015315  81ce123cbb5bd8ce818f60fb3586bba5   \n",
       "\n",
       "                     user_feature_1                    user_feature_2  \\\n",
       "0  03a5648a76832f83c859d46bc06cb64a  7bc94a2da491829b777c49c4b5e480f2   \n",
       "1  03a5648a76832f83c859d46bc06cb64a  7bc94a2da491829b777c49c4b5e480f2   \n",
       "2  03a5648a76832f83c859d46bc06cb64a  7bc94a2da491829b777c49c4b5e480f2   \n",
       "3  03a5648a76832f83c859d46bc06cb64a  9f4e8271d3d3014af5f35124c2de5082   \n",
       "4  03a5648a76832f83c859d46bc06cb64a  9f4e8271d3d3014af5f35124c2de5082   \n",
       "\n",
       "                     user_feature_3  user-item_affinity_0  ...  \\\n",
       "0  c39b0c7dd5d4eb9a18e7db6ba2f258f8                   0.0  ...   \n",
       "1  c39b0c7dd5d4eb9a18e7db6ba2f258f8                   0.0  ...   \n",
       "2  c39b0c7dd5d4eb9a18e7db6ba2f258f8                   0.0  ...   \n",
       "3  c39b0c7dd5d4eb9a18e7db6ba2f258f8                   0.0  ...   \n",
       "4  c39b0c7dd5d4eb9a18e7db6ba2f258f8                   0.0  ...   \n",
       "\n",
       "   user-item_affinity_36  user-item_affinity_37  user-item_affinity_38  \\\n",
       "0                    0.0                    0.0                    0.0   \n",
       "1                    0.0                    0.0                    0.0   \n",
       "2                    0.0                    0.0                    0.0   \n",
       "3                    0.0                    0.0                    0.0   \n",
       "4                    0.0                    0.0                    0.0   \n",
       "\n",
       "   user-item_affinity_39  user-item_affinity_40  user-item_affinity_41  \\\n",
       "0                    0.0                    0.0                    0.0   \n",
       "1                    0.0                    0.0                    0.0   \n",
       "2                    0.0                    0.0                    0.0   \n",
       "3                    0.0                    0.0                    0.0   \n",
       "4                    0.0                    0.0                    0.0   \n",
       "\n",
       "   user-item_affinity_42  user-item_affinity_43  user-item_affinity_44  \\\n",
       "0                    0.0                    0.0                    0.0   \n",
       "1                    0.0                    0.0                    0.0   \n",
       "2                    0.0                    0.0                    0.0   \n",
       "3                    0.0                    0.0                    0.0   \n",
       "4                    0.0                    0.0                    0.0   \n",
       "\n",
       "   user-item_affinity_45  \n",
       "0                    0.0  \n",
       "1                    0.0  \n",
       "2                    0.0  \n",
       "3                    0.0  \n",
       "4                    0.0  \n",
       "\n",
       "[5 rows x 55 columns]"
      ]
     },
     "execution_count": 90,
     "metadata": {},
     "output_type": "execute_result"
    }
   ],
   "source": [
    "women.head()"
   ]
  },
  {
   "cell_type": "code",
   "execution_count": 91,
   "metadata": {
    "ExecuteTime": {
     "end_time": "2021-01-20T13:20:14.889457Z",
     "start_time": "2021-01-20T13:20:14.852263Z"
    }
   },
   "outputs": [],
   "source": [
    "women['timestamp'] = pd.to_datetime(women['timestamp'])\n",
    "women['lag_timestamp'] = women['timestamp'].shift(1)\n",
    "women['diff'] = women['timestamp'] - women['lag_timestamp']\n",
    "\n",
    "women['group'] = women['diff'] > timedelta(milliseconds=5)\n",
    "women['group'] = women['group'].cumsum()\n",
    "\n",
    "columns = women.columns.to_list()\n",
    "columns = columns[-1:] + columns[:-1]\n",
    "women = women[columns]"
   ]
  },
  {
   "cell_type": "code",
   "execution_count": 106,
   "metadata": {
    "ExecuteTime": {
     "end_time": "2021-01-20T13:28:30.782185Z",
     "start_time": "2021-01-20T13:28:30.777693Z"
    }
   },
   "outputs": [
    {
     "data": {
      "text/plain": [
       "25735"
      ]
     },
     "execution_count": 106,
     "metadata": {},
     "output_type": "execute_result"
    }
   ],
   "source": [
    "women['group'].max()"
   ]
  },
  {
   "cell_type": "code",
   "execution_count": 98,
   "metadata": {
    "ExecuteTime": {
     "end_time": "2021-01-20T13:25:40.718550Z",
     "start_time": "2021-01-20T13:25:40.712321Z"
    }
   },
   "outputs": [
    {
     "data": {
      "text/plain": [
       "2    23342\n",
       "1    23329\n",
       "3    23329\n",
       "Name: position, dtype: int64"
      ]
     },
     "execution_count": 98,
     "metadata": {},
     "output_type": "execute_result"
    }
   ],
   "source": [
    "women['position'].value_counts()"
   ]
  },
  {
   "cell_type": "code",
   "execution_count": 107,
   "metadata": {
    "ExecuteTime": {
     "end_time": "2021-01-20T13:29:08.290068Z",
     "start_time": "2021-01-20T13:29:08.004281Z"
    }
   },
   "outputs": [
    {
     "data": {
      "image/png": "[encoded data removed]",
      "text/plain": [
       "<Figure size 720x360 with 1 Axes>"
      ]
     },
     "metadata": {},
     "output_type": "display_data"
    }
   ],
   "source": [
    "import seaborn as sns\n",
    "fig, ax = plt.subplots(1,1, figsize = (10,5))\n",
    "sns.kdeplot(women['propensity_score'], ax = ax).set(xlim=(0))\n",
    "plt.show()"
   ]
  },
  {
   "cell_type": "code",
   "execution_count": 31,
   "metadata": {
    "ExecuteTime": {
     "end_time": "2021-01-20T12:58:35.020052Z",
     "start_time": "2021-01-20T12:58:35.011275Z"
    }
   },
   "outputs": [
    {
     "data": {
      "text/html": [
       "<div>\n",
       "<style scoped>\n",
       "    .dataframe tbody tr th:only-of-type {\n",
       "        vertical-align: middle;\n",
       "    }\n",
       "\n",
       "    .dataframe tbody tr th {\n",
       "        vertical-align: top;\n",
       "    }\n",
       "\n",
       "    .dataframe thead th {\n",
       "        text-align: right;\n",
       "    }\n",
       "</style>\n",
       "<table border=\"1\" class=\"dataframe\">\n",
       "  <thead>\n",
       "    <tr style=\"text-align: right;\">\n",
       "      <th></th>\n",
       "      <th>item_id</th>\n",
       "      <th>item_feature_0</th>\n",
       "      <th>item_feature_1</th>\n",
       "      <th>item_feature_2</th>\n",
       "      <th>item_feature_3</th>\n",
       "    </tr>\n",
       "  </thead>\n",
       "  <tbody>\n",
       "    <tr>\n",
       "      <th>0</th>\n",
       "      <td>0</td>\n",
       "      <td>-0.370106</td>\n",
       "      <td>cf6b1dd93a6678b01f1cb867355ecb02</td>\n",
       "      <td>54c2f1abb60b37635be8dbc01f3f374f</td>\n",
       "      <td>5aeba6930d398e792dfb07fdd0574f8a</td>\n",
       "    </tr>\n",
       "    <tr>\n",
       "      <th>1</th>\n",
       "      <td>1</td>\n",
       "      <td>0.525196</td>\n",
       "      <td>1aad13dfd0d65bfa2491918c745bc285</td>\n",
       "      <td>fcb8dceb32d4a17abeb852bfb9b81e9d</td>\n",
       "      <td>ea42d32e337404227d803bfe5d3d5f69</td>\n",
       "    </tr>\n",
       "    <tr>\n",
       "      <th>2</th>\n",
       "      <td>2</td>\n",
       "      <td>-0.134500</td>\n",
       "      <td>ff384b17008335703e4842e33c0f0820</td>\n",
       "      <td>54c2f1abb60b37635be8dbc01f3f374f</td>\n",
       "      <td>5aeba6930d398e792dfb07fdd0574f8a</td>\n",
       "    </tr>\n",
       "    <tr>\n",
       "      <th>3</th>\n",
       "      <td>3</td>\n",
       "      <td>-0.535030</td>\n",
       "      <td>cf6b1dd93a6678b01f1cb867355ecb02</td>\n",
       "      <td>ed8f0cc18effabd1b01b60586ccb2dab</td>\n",
       "      <td>5aeba6930d398e792dfb07fdd0574f8a</td>\n",
       "    </tr>\n",
       "    <tr>\n",
       "      <th>4</th>\n",
       "      <td>4</td>\n",
       "      <td>-0.252303</td>\n",
       "      <td>1aad13dfd0d65bfa2491918c745bc285</td>\n",
       "      <td>19dac1ee0a001749205504d8dc867884</td>\n",
       "      <td>a06874cb4431b6b70642db73b4a95562</td>\n",
       "    </tr>\n",
       "  </tbody>\n",
       "</table>\n",
       "</div>"
      ],
      "text/plain": [
       "   item_id  item_feature_0                    item_feature_1  \\\n",
       "0        0       -0.370106  cf6b1dd93a6678b01f1cb867355ecb02   \n",
       "1        1        0.525196  1aad13dfd0d65bfa2491918c745bc285   \n",
       "2        2       -0.134500  ff384b17008335703e4842e33c0f0820   \n",
       "3        3       -0.535030  cf6b1dd93a6678b01f1cb867355ecb02   \n",
       "4        4       -0.252303  1aad13dfd0d65bfa2491918c745bc285   \n",
       "\n",
       "                     item_feature_2                    item_feature_3  \n",
       "0  54c2f1abb60b37635be8dbc01f3f374f  5aeba6930d398e792dfb07fdd0574f8a  \n",
       "1  fcb8dceb32d4a17abeb852bfb9b81e9d  ea42d32e337404227d803bfe5d3d5f69  \n",
       "2  54c2f1abb60b37635be8dbc01f3f374f  5aeba6930d398e792dfb07fdd0574f8a  \n",
       "3  ed8f0cc18effabd1b01b60586ccb2dab  5aeba6930d398e792dfb07fdd0574f8a  \n",
       "4  19dac1ee0a001749205504d8dc867884  a06874cb4431b6b70642db73b4a95562  "
      ]
     },
     "execution_count": 31,
     "metadata": {},
     "output_type": "execute_result"
    }
   ],
   "source": [
    "item_context.head()"
   ]
  },
  {
   "cell_type": "code",
   "execution_count": 26,
   "metadata": {
    "ExecuteTime": {
     "end_time": "2021-01-20T12:57:04.048377Z",
     "start_time": "2021-01-20T12:57:04.042709Z"
    }
   },
   "outputs": [],
   "source": [
    "item_popular = women.groupby('item_id')['click'].agg(['sum', 'count'])\n",
    "item_popular['ctr'] = item_popular['sum'] / item_popular['count']"
   ]
  },
  {
   "cell_type": "code",
   "execution_count": 36,
   "metadata": {
    "ExecuteTime": {
     "end_time": "2021-01-20T13:01:29.915626Z",
     "start_time": "2021-01-20T13:01:29.779209Z"
    }
   },
   "outputs": [
    {
     "data": {
      "text/plain": [
       "<matplotlib.collections.PathCollection at 0x7fc38e7e22e0>"
      ]
     },
     "execution_count": 36,
     "metadata": {},
     "output_type": "execute_result"
    },
    {
     "data": {
      "image/png": "[encoded data removed]",
      "text/plain": [
       "<Figure size 432x288 with 1 Axes>"
      ]
     },
     "metadata": {},
     "output_type": "display_data"
    }
   ],
   "source": [
    "%matplotlib inline\n",
    "import matplotlib.pyplot as plt\n",
    "plt.style.use('seaborn-whitegrid')\n",
    "\n",
    "plt.scatter(item_popular['sum'], item_popular['ctr'])"
   ]
  },
  {
   "cell_type": "code",
   "execution_count": null,
   "metadata": {},
   "outputs": [],
   "source": []
  },
  {
   "cell_type": "code",
   "execution_count": null,
   "metadata": {},
   "outputs": [],
   "source": []
  },
  {
   "cell_type": "code",
   "execution_count": null,
   "metadata": {},
   "outputs": [],
   "source": []
  }
 ],
 "metadata": {
  "kernelspec": {
   "display_name": "obp",
   "language": "python",
   "name": "obp"
  },
  "language_info": {
   "codemirror_mode": {
    "name": "ipython",
    "version": 3
   },
   "file_extension": ".py",
   "mimetype": "text/x-python",
   "name": "python",
   "nbconvert_exporter": "python",
   "pygments_lexer": "ipython3",
   "version": "3.9.1"
  },
  "toc": {
   "base_numbering": 1,
   "nav_menu": {},
   "number_sections": false,
   "sideBar": true,
   "skip_h1_title": false,
   "title_cell": "Table of Contents",
   "title_sidebar": "Contents",
   "toc_cell": true,
   "toc_position": {},
   "toc_section_display": true,
   "toc_window_display": false
  }
 },
 "nbformat": 4,
 "nbformat_minor": 5
}
