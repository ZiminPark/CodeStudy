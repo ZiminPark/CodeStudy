{
 "cells": [
  {
   "cell_type": "markdown",
   "metadata": {
    "toc": true
   },
   "source": [
    "<h1>Table of Contents<span class=\"tocSkip\"></span></h1>\n",
    "<div class=\"toc\"><ul class=\"toc-item\"><li><span><a href=\"#(1)-Data-loading-and-preprocessing\" data-toc-modified-id=\"(1)-Data-loading-and-preprocessing-1\">(1) Data loading and preprocessing</a></span></li><li><span><a href=\"#(2)-Off-Policy-Learning\" data-toc-modified-id=\"(2)-Off-Policy-Learning-2\">(2) Off-Policy Learning</a></span></li><li><span><a href=\"#(3)-Off-Policy-Evaluation\" data-toc-modified-id=\"(3)-Off-Policy-Evaluation-3\">(3) Off-Policy Evaluation</a></span></li></ul></div>"
   ]
  },
  {
   "cell_type": "markdown",
   "metadata": {},
   "source": [
    "- https://github.com/st-tech/zr-obp "
   ]
  },
  {
   "cell_type": "code",
   "execution_count": 1,
   "metadata": {
    "ExecuteTime": {
     "end_time": "2021-01-20T12:02:33.775740Z",
     "start_time": "2021-01-20T12:02:32.185403Z"
    }
   },
   "outputs": [],
   "source": [
    "from obp.dataset import OpenBanditDataset\n",
    "from obp.policy import BernoulliTS\n",
    "from obp.ope import OffPolicyEvaluation, InverseProbabilityWeighting as IPW\n",
    "\n",
    "from pathlib import Path"
   ]
  },
  {
   "cell_type": "markdown",
   "metadata": {
    "ExecuteTime": {
     "end_time": "2021-01-19T17:22:29.102780Z",
     "start_time": "2021-01-19T17:22:19.972617Z"
    },
    "scrolled": true
   },
   "source": [
    "# (1) Data loading and preprocessing"
   ]
  },
  {
   "cell_type": "code",
   "execution_count": 3,
   "metadata": {
    "ExecuteTime": {
     "end_time": "2021-01-19T17:20:34.152935Z",
     "start_time": "2021-01-19T17:20:34.150519Z"
    }
   },
   "outputs": [],
   "source": [
    "base_path = Path('.')\n",
    "\n",
    "dataset = OpenBanditDataset(behavior_policy='random', campaign='all', data_path=base_path)\n",
    "bandit_feedback = dataset.obtain_batch_bandit_feedback()"
   ]
  },
  {
   "cell_type": "code",
   "execution_count": 11,
   "metadata": {
    "ExecuteTime": {
     "end_time": "2021-01-19T17:23:12.961206Z",
     "start_time": "2021-01-19T17:23:12.957966Z"
    }
   },
   "outputs": [
    {
     "data": {
      "text/plain": [
       "(1374327, 26)"
      ]
     },
     "execution_count": 11,
     "metadata": {},
     "output_type": "execute_result"
    }
   ],
   "source": [
    "bandit_feedback['context'].shape"
   ]
  },
  {
   "cell_type": "markdown",
   "metadata": {
    "ExecuteTime": {
     "end_time": "2021-01-19T17:23:27.645335Z",
     "start_time": "2021-01-19T17:23:22.970284Z"
    }
   },
   "source": [
    "# (2) Off-Policy Learning"
   ]
  },
  {
   "cell_type": "code",
   "execution_count": 12,
   "metadata": {
    "ExecuteTime": {
     "end_time": "2021-01-19T17:23:27.645335Z",
     "start_time": "2021-01-19T17:23:22.970284Z"
    }
   },
   "outputs": [],
   "source": [
    "evaluation_policy = BernoulliTS(\n",
    "    n_actions=dataset.n_actions,\n",
    "    len_list=dataset.len_list,\n",
    "    is_zozotown_prior=True, # replicate the policy in the ZOZOTOWN production\n",
    "    campaign=\"all\",\n",
    "    random_state=12345\n",
    ")\n",
    "action_dist = evaluation_policy.compute_batch_action_dist(\n",
    "    n_sim=100000, n_rounds=bandit_feedback[\"n_rounds\"]\n",
    ")"
   ]
  },
  {
   "cell_type": "markdown",
   "metadata": {},
   "source": [
    "# (3) Off-Policy Evaluation"
   ]
  },
  {
   "cell_type": "code",
   "execution_count": 14,
   "metadata": {
    "ExecuteTime": {
     "end_time": "2021-01-19T17:23:38.974440Z",
     "start_time": "2021-01-19T17:23:38.742966Z"
    }
   },
   "outputs": [
    {
     "name": "stderr",
     "output_type": "stream",
     "text": [
      "`estimated_rewards_by_reg_model` is not given; model dependent estimators such as DM or DR cannot be used.\n"
     ]
    },
    {
     "name": "stdout",
     "output_type": "stream",
     "text": [
      "1.35292399328859\n"
     ]
    }
   ],
   "source": [
    "ope = OffPolicyEvaluation(bandit_feedback=bandit_feedback, ope_estimators=[IPW()])\n",
    "estimated_policy_value = ope.estimate_policy_values(action_dist=action_dist)\n",
    "\n",
    "# estimated performance of BernoulliTS relative to the ground-truth performance of Random\n",
    "relative_policy_value_of_bernoulli_ts = estimated_policy_value['ipw'] / bandit_feedback['reward'].mean()\n",
    "print(relative_policy_value_of_bernoulli_ts)"
   ]
  },
  {
   "cell_type": "code",
   "execution_count": null,
   "metadata": {},
   "outputs": [],
   "source": []
  }
 ],
 "metadata": {
  "kernelspec": {
   "display_name": "obp",
   "language": "python",
   "name": "obp"
  },
  "language_info": {
   "codemirror_mode": {
    "name": "ipython",
    "version": 3
   },
   "file_extension": ".py",
   "mimetype": "text/x-python",
   "name": "python",
   "nbconvert_exporter": "python",
   "pygments_lexer": "ipython3",
   "version": "3.9.1"
  },
  "toc": {
   "base_numbering": 1,
   "nav_menu": {},
   "number_sections": false,
   "sideBar": true,
   "skip_h1_title": false,
   "title_cell": "Table of Contents",
   "title_sidebar": "Contents",
   "toc_cell": true,
   "toc_position": {},
   "toc_section_display": true,
   "toc_window_display": false
  }
 },
 "nbformat": 4,
 "nbformat_minor": 5
}
