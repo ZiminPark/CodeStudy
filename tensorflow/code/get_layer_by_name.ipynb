{
  "nbformat": 4,
  "nbformat_minor": 0,
  "metadata": {
    "colab": {
      "name": "practice.ipynb",
      "provenance": [],
      "collapsed_sections": [],
      "include_colab_link": true
    },
    "kernelspec": {
      "name": "python3",
      "display_name": "Python 3"
    }
  },
  "cells": [
    {
      "cell_type": "markdown",
      "metadata": {
        "id": "view-in-github",
        "colab_type": "text"
      },
      "source": [
        "<a href=\"https://colab.research.google.com/github/ZiminPark/TIL/blob/master/tensorflow/code/get_layer_by_name.ipynb\" target=\"_parent\"><img src=\"https://colab.research.google.com/assets/colab-badge.svg\" alt=\"Open In Colab\"/></a>"
      ]
    },
    {
      "cell_type": "code",
      "metadata": {
        "id": "sYpv3j-BpMTk",
        "colab_type": "code",
        "colab": {}
      },
      "source": [
        "import tensorflow as tf\n",
        "import numpy as np"
      ],
      "execution_count": 0,
      "outputs": []
    },
    {
      "cell_type": "code",
      "metadata": {
        "id": "cysT4llWD-5Q",
        "colab_type": "code",
        "outputId": "d00b862d-156a-4c4c-ce96-22d447146a99",
        "colab": {
          "base_uri": "https://localhost:8080/",
          "height": 34
        }
      },
      "source": [
        "model = tf.keras.Sequential()\n",
        "model.add(tf.keras.layers.GRU(20, name='want_to_find'))\n",
        "model.add(tf.keras.layers.Dense(39))\n",
        "model.add(tf.keras.layers.Dense(39))\n",
        "\n",
        "print(model.layers)"
      ],
      "execution_count": 0,
      "outputs": [
        {
          "output_type": "stream",
          "text": [
            "[<tensorflow.python.keras.layers.recurrent_v2.GRU object at 0x7f51c801fa90>, <tensorflow.python.keras.layers.core.Dense object at 0x7f51c7f60710>, <tensorflow.python.keras.layers.core.Dense object at 0x7f51c7f609e8>]\n"
          ],
          "name": "stdout"
        }
      ]
    },
    {
      "cell_type": "code",
      "metadata": {
        "id": "QrCuw56rTeK-",
        "colab_type": "code",
        "colab": {}
      },
      "source": [
        "sample = np.array([[[1.0,2.0,3.0]]], dtype=np.float32)"
      ],
      "execution_count": 0,
      "outputs": []
    },
    {
      "cell_type": "code",
      "metadata": {
        "id": "C5-sthLmEFml",
        "colab_type": "code",
        "outputId": "e173c977-c763-41c5-c7ca-3358944364e4",
        "colab": {
          "base_uri": "https://localhost:8080/",
          "height": 119
        }
      },
      "source": [
        "model.layers[0](sample)"
      ],
      "execution_count": 0,
      "outputs": [
        {
          "output_type": "execute_result",
          "data": {
            "text/plain": [
              "<tf.Tensor: shape=(1, 20), dtype=float32, numpy=\n",
              "array([[ 0.10883731,  0.34125784, -0.2764682 , -0.4479409 ,  0.09949609,\n",
              "         0.01013871, -0.49761805,  0.06811239,  0.28774783, -0.33265346,\n",
              "        -0.3720265 , -0.30939153,  0.23926798,  0.03866652,  0.12813671,\n",
              "         0.16060154,  0.38302058, -0.1979138 ,  0.19868955, -0.13409604]],\n",
              "      dtype=float32)>"
            ]
          },
          "metadata": {
            "tags": []
          },
          "execution_count": 61
        }
      ]
    },
    {
      "cell_type": "code",
      "metadata": {
        "id": "gVqgKLhmRgVd",
        "colab_type": "code",
        "outputId": "c51df8fd-b8aa-4bf1-d18a-e821a6ca3033",
        "colab": {
          "base_uri": "https://localhost:8080/",
          "height": 119
        }
      },
      "source": [
        "model.get_layer('want_to_find')(sample)"
      ],
      "execution_count": 0,
      "outputs": [
        {
          "output_type": "execute_result",
          "data": {
            "text/plain": [
              "<tf.Tensor: shape=(1, 20), dtype=float32, numpy=\n",
              "array([[ 0.10883731,  0.34125784, -0.2764682 , -0.4479409 ,  0.09949609,\n",
              "         0.01013871, -0.49761805,  0.06811239,  0.28774783, -0.33265346,\n",
              "        -0.3720265 , -0.30939153,  0.23926798,  0.03866652,  0.12813671,\n",
              "         0.16060154,  0.38302058, -0.1979138 ,  0.19868955, -0.13409604]],\n",
              "      dtype=float32)>"
            ]
          },
          "metadata": {
            "tags": []
          },
          "execution_count": 63
        }
      ]
    }
  ]
}